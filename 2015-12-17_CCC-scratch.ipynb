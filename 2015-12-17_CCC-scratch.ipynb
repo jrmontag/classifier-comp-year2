{
 "cells": [
  {
   "cell_type": "markdown",
   "metadata": {},
   "source": [
    "2015-12-17\n",
    "\n",
    "Using this notebook to get up and running. Start with a dummy classifier, and maybe some utilities for creating submissions."
   ]
  },
  {
   "cell_type": "code",
   "execution_count": null,
   "metadata": {
    "collapsed": false
   },
   "outputs": [],
   "source": [
    "from datetime import datetime\n",
    "import numpy as np\n",
    "import pandas as pd\n",
    "\n",
    "# nb: changed matplotlib backend to 'Agg' in matplotlibrc \n",
    "#  (issues w/ MacOSX backend in virtualenvs)\n",
    "import matplotlib.pyplot as plt\n",
    "%matplotlib inline\n",
    "import seaborn as sb\n",
    "\n",
    "\n",
    "from sklearn.cross_validation import train_test_split, cross_val_predict, cross_val_score\n",
    "from sklearn.dummy import DummyClassifier\n",
    "from sklearn.externals import joblib\n",
    "from sklearn.linear_model import SGDClassifier\n",
    "from sklearn.metrics import accuracy_score, confusion_matrix\n",
    "from sklearn.preprocessing import StandardScaler"
   ]
  },
  {
   "cell_type": "code",
   "execution_count": null,
   "metadata": {
    "collapsed": false
   },
   "outputs": [],
   "source": [
    "X_train_full = np.load('data/train-images.npy')\n",
    "y_train_full = np.load('data/train-labels.npy')"
   ]
  },
  {
   "cell_type": "markdown",
   "metadata": {},
   "source": [
    "------\n",
    "\n",
    "## inspection"
   ]
  },
  {
   "cell_type": "code",
   "execution_count": null,
   "metadata": {
    "collapsed": true
   },
   "outputs": [],
   "source": [
    "labels = pd.Series(y_train_full)"
   ]
  },
  {
   "cell_type": "code",
   "execution_count": null,
   "metadata": {
    "collapsed": false
   },
   "outputs": [],
   "source": [
    "labels.hist()\n",
    "\n",
    "plt.title(\"all training labels\")\n",
    "plt.xlabel(\"class\")\n",
    "plt.ylabel(\"counts\")"
   ]
  },
  {
   "cell_type": "markdown",
   "metadata": {},
   "source": [
    "Since the distribution of classes is pretty uniform, we can worry about cross-validation without stratification in later analysis steps.\n",
    "\n",
    "----\n",
    "\n",
    "## models"
   ]
  },
  {
   "cell_type": "code",
   "execution_count": null,
   "metadata": {
    "collapsed": false
   },
   "outputs": [],
   "source": [
    "X_train, X_test, y_train, y_test = train_test_split(X_train_full, y_train_full)\n",
    "\n",
    "print(\"train size: {}\".format(len(X_train)))\n",
    "print(\"test size: {}\".format(len(X_test)))"
   ]
  },
  {
   "cell_type": "markdown",
   "metadata": {
    "collapsed": true
   },
   "source": [
    "Start with a fake classifier..."
   ]
  },
  {
   "cell_type": "code",
   "execution_count": null,
   "metadata": {
    "collapsed": false
   },
   "outputs": [],
   "source": [
    "clf = DummyClassifier()\n",
    "clf_label = clf.__class__.__name__\n",
    "clf.fit(X_train, y_train)"
   ]
  },
  {
   "cell_type": "code",
   "execution_count": null,
   "metadata": {
    "collapsed": true
   },
   "outputs": [],
   "source": [
    "y_pred = clf.predict(X_test)"
   ]
  },
  {
   "cell_type": "code",
   "execution_count": null,
   "metadata": {
    "collapsed": false,
    "scrolled": true
   },
   "outputs": [],
   "source": [
    "accuracy_score(y_test, y_pred)"
   ]
  },
  {
   "cell_type": "markdown",
   "metadata": {},
   "source": [
    "-----\n",
    "\n",
    "## diagnostics"
   ]
  },
  {
   "cell_type": "code",
   "execution_count": null,
   "metadata": {
    "collapsed": false
   },
   "outputs": [],
   "source": [
    "# c_v_p returns the array of predictions for each \n",
    "#  measurement when it was in the test fold\n",
    "cv_predict = cross_val_predict(clf, X_train, y_train, cv=5)\n",
    "cv_predict"
   ]
  },
  {
   "cell_type": "code",
   "execution_count": null,
   "metadata": {
    "collapsed": false
   },
   "outputs": [],
   "source": [
    "confusion_matrix(y_train, cv_predict)"
   ]
  },
  {
   "cell_type": "code",
   "execution_count": null,
   "metadata": {
    "collapsed": false
   },
   "outputs": [],
   "source": [
    "# should be approximately random\n",
    "sb.heatmap( confusion_matrix(y_train, cv_predict))\n",
    "\n",
    "plt.title(clf_label)\n",
    "plt.xlabel(\"True\")\n",
    "plt.ylabel(\"Pred\")"
   ]
  },
  {
   "cell_type": "markdown",
   "metadata": {
    "collapsed": true
   },
   "source": [
    "----\n",
    "\n",
    "## scaling"
   ]
  },
  {
   "cell_type": "code",
   "execution_count": null,
   "metadata": {
    "collapsed": false
   },
   "outputs": [],
   "source": [
    "X_train, X_test, y_train, y_test = train_test_split(X_train_full, y_train_full)\n",
    "\n",
    "print(\"train size: {}\".format(len(X_train)))\n",
    "print(\"test size: {}\".format(len(X_test)))"
   ]
  },
  {
   "cell_type": "code",
   "execution_count": null,
   "metadata": {
    "collapsed": false
   },
   "outputs": [],
   "source": [
    "scaler = StandardScaler().fit(X_train)\n",
    "\n",
    "X_scaled = scaler.transform(X_train)"
   ]
  },
  {
   "cell_type": "code",
   "execution_count": null,
   "metadata": {
    "collapsed": false
   },
   "outputs": [],
   "source": [
    "clf = SGDClassifier(n_jobs=-1)\n",
    "\n",
    "# k-fold CV (cf ~85% without scaling)\n",
    "scores = cross_val_score(clf, X_scaled, y_train, n_jobs=-1, cv=3)\n",
    "print(\"Accuracy: %0.2f (+/- %0.2f)\" % (scores.mean(), scores.std() * 2))"
   ]
  },
  {
   "cell_type": "code",
   "execution_count": null,
   "metadata": {
    "collapsed": false
   },
   "outputs": [],
   "source": [
    "cv_predict = cross_val_predict(clf, X_scaled, y_train, cv=3)\n",
    "sb.heatmap( confusion_matrix(y_train, cv_predict))\n",
    "\n",
    "plt.title(clf.__class__.__name__)\n",
    "plt.xlabel(\"True\")\n",
    "plt.ylabel(\"Pred\")\n",
    "plt.show()"
   ]
  },
  {
   "cell_type": "code",
   "execution_count": null,
   "metadata": {
    "collapsed": true
   },
   "outputs": [],
   "source": []
  },
  {
   "cell_type": "code",
   "execution_count": null,
   "metadata": {
    "collapsed": true
   },
   "outputs": [],
   "source": []
  },
  {
   "cell_type": "code",
   "execution_count": null,
   "metadata": {
    "collapsed": true
   },
   "outputs": [],
   "source": []
  },
  {
   "cell_type": "code",
   "execution_count": null,
   "metadata": {
    "collapsed": true
   },
   "outputs": [],
   "source": []
  },
  {
   "cell_type": "code",
   "execution_count": null,
   "metadata": {
    "collapsed": true
   },
   "outputs": [],
   "source": []
  },
  {
   "cell_type": "markdown",
   "metadata": {},
   "source": [
    "----\n",
    "\n",
    "## image display"
   ]
  },
  {
   "cell_type": "code",
   "execution_count": null,
   "metadata": {
    "collapsed": true
   },
   "outputs": [],
   "source": []
  },
  {
   "cell_type": "code",
   "execution_count": null,
   "metadata": {
    "collapsed": true
   },
   "outputs": [],
   "source": []
  },
  {
   "cell_type": "markdown",
   "metadata": {
    "collapsed": true
   },
   "source": [
    "----\n",
    "\n",
    "## utilities\n",
    "\n",
    "saving predictions"
   ]
  },
  {
   "cell_type": "code",
   "execution_count": null,
   "metadata": {
    "collapsed": false
   },
   "outputs": [],
   "source": [
    "def create_submission(predictions, sub_name, comment=None, team='DrJ'):\n",
    "    \"\"\"Include the given array of image predictions in a properly-formatted \n",
    "    submission file.\n",
    "    \"\"\"\n",
    "    now = datetime.utcnow().strftime('%Y-%m-%dT%H:%M:%S')\n",
    "    submission_name = '-'.join(sub_name.split())\n",
    "    with open('submissions/{}_{}.submission'.format(now, submission_name), 'w') as f:\n",
    "        f.write('#'*20 + ' Generated submission file\\n')\n",
    "        if comment is not None:\n",
    "            f.write('# ' + comment + '\\n')\n",
    "        f.write('{}\\n'.format(team))\n",
    "        f.write('{}\\n'.format(now))\n",
    "        f.write('{}\\n'.format(sub_name))\n",
    "        for p in predictions:\n",
    "            f.write('{}\\n'.format(p))\n",
    "    return True"
   ]
  },
  {
   "cell_type": "raw",
   "metadata": {
    "collapsed": false
   },
   "source": [
    "create_submission(y_pred, \n",
    "                  'this is only a test', \n",
    "                  comment='this is only the test portion of the training set!'\n",
    "                 )"
   ]
  },
  {
   "cell_type": "markdown",
   "metadata": {},
   "source": [
    "----------"
   ]
  },
  {
   "cell_type": "markdown",
   "metadata": {},
   "source": [
    "# Model 1: Class Test Dummies\n",
    "\n",
    "Use a ``DummyClassifier`` with \"stratified\" choices (ie maintain the class distribution of the training set)."
   ]
  },
  {
   "cell_type": "code",
   "execution_count": null,
   "metadata": {
    "collapsed": false
   },
   "outputs": [],
   "source": [
    "X_test = np.load('data/test-images.npy')\n",
    "\n",
    "print(\"test size: {}\".format(len(X_test)))"
   ]
  },
  {
   "cell_type": "code",
   "execution_count": null,
   "metadata": {
    "collapsed": false
   },
   "outputs": [],
   "source": [
    "clf = DummyClassifier()\n",
    "clf.fit(X_train, y_train)"
   ]
  },
  {
   "cell_type": "code",
   "execution_count": null,
   "metadata": {
    "collapsed": false
   },
   "outputs": [],
   "source": [
    "predictions = clf.predict(X_test)\n",
    "\n",
    "print(\"target size: {}\".format(len(predictions)))"
   ]
  },
  {
   "cell_type": "code",
   "execution_count": null,
   "metadata": {
    "collapsed": false
   },
   "outputs": [],
   "source": [
    "predictions"
   ]
  },
  {
   "cell_type": "raw",
   "metadata": {
    "collapsed": false
   },
   "source": [
    "create_submission(predictions, \n",
    "                  'Class Test Dummies', \n",
    "                  comment='stratified DummyClassifier'\n",
    "                  )"
   ]
  },
  {
   "cell_type": "code",
   "execution_count": null,
   "metadata": {
    "collapsed": true
   },
   "outputs": [],
   "source": []
  },
  {
   "cell_type": "markdown",
   "metadata": {},
   "source": [
    "# Model 2: Heard It Through The Grapevine\n",
    "\n",
    "> *Hey, I heard somewhere once that SVMs work well on the MNIST dataset.*\n",
    ">\n",
    "> \\- the back of my brain\n",
    "\n",
    "Use a vanilla SVM classifier, because I literally just remember hearing that is was a good and efficient model for "
   ]
  },
  {
   "cell_type": "code",
   "execution_count": null,
   "metadata": {
    "collapsed": false
   },
   "outputs": [],
   "source": [
    "X_train = np.load('data/train-images.npy')\n",
    "y_train = np.load('data/train-labels.npy')\n",
    "\n",
    "X_test = np.load('data/test-images.npy')"
   ]
  },
  {
   "cell_type": "code",
   "execution_count": null,
   "metadata": {
    "collapsed": false
   },
   "outputs": [],
   "source": [
    "X_train, X_test, y_train, y_test = train_test_split(X_train, y_train)\n",
    "\n",
    "print(\"train size: {}\".format(len(X_train)))\n",
    "print(\"test size: {}\".format(len(X_test)))"
   ]
  },
  {
   "cell_type": "code",
   "execution_count": null,
   "metadata": {
    "collapsed": false
   },
   "outputs": [],
   "source": [
    "clf = SGDClassifier(n_jobs=-1)"
   ]
  },
  {
   "cell_type": "code",
   "execution_count": null,
   "metadata": {
    "collapsed": false
   },
   "outputs": [],
   "source": [
    "# single prediction\n",
    "#clf.fit(X_train, y_train)\n",
    "#accuracy_score(y_test, clf.predict(X_test))\n",
    "\n",
    "# k-fold CV\n",
    "scores = cross_val_score(clf, X_train, y_train, n_jobs=-1, cv=5)\n",
    "print(\"Accuracy: %0.2f (+/- %0.2f)\" % (scores.mean(), scores.std() * 2))"
   ]
  },
  {
   "cell_type": "code",
   "execution_count": null,
   "metadata": {
    "collapsed": true
   },
   "outputs": [],
   "source": [
    "cv_predict = cross_val_predict(clf, X_train, y_train, cv=5)"
   ]
  },
  {
   "cell_type": "code",
   "execution_count": null,
   "metadata": {
    "collapsed": false
   },
   "outputs": [],
   "source": [
    "sb.heatmap( confusion_matrix(y_train, cv_predict))\n",
    "\n",
    "plt.title(clf.__class__.__name__)\n",
    "plt.xlabel(\"True\")\n",
    "plt.ylabel(\"Pred\")"
   ]
  },
  {
   "cell_type": "markdown",
   "metadata": {},
   "source": [
    "-----\n",
    "\n",
    "Reset the model and fit on the entire training set."
   ]
  },
  {
   "cell_type": "code",
   "execution_count": null,
   "metadata": {
    "collapsed": false
   },
   "outputs": [],
   "source": [
    "clf = SGDClassifier(n_jobs=-1)\n",
    "predictions = clf.fit(X_train, y_train).predict(X_test)"
   ]
  },
  {
   "cell_type": "raw",
   "metadata": {
    "collapsed": true
   },
   "source": [
    "create_submission(predictions, \n",
    "                 'Grapevine',\n",
    "                 comment='default SGDClassifier (linear SVM)'\n",
    "                 )"
   ]
  },
  {
   "cell_type": "code",
   "execution_count": null,
   "metadata": {
    "collapsed": false
   },
   "outputs": [],
   "source": []
  }
 ],
 "metadata": {
  "kernelspec": {
   "display_name": "Python 2",
   "language": "python",
   "name": "python2"
  },
  "language_info": {
   "codemirror_mode": {
    "name": "ipython",
    "version": 2
   },
   "file_extension": ".py",
   "mimetype": "text/x-python",
   "name": "python",
   "nbconvert_exporter": "python",
   "pygments_lexer": "ipython2",
   "version": "2.7.9"
  }
 },
 "nbformat": 4,
 "nbformat_minor": 0
}
